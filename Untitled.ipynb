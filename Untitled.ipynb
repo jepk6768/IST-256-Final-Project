{
 "cells": [
  {
   "cell_type": "code",
   "execution_count": 23,
   "metadata": {},
   "outputs": [
    {
     "name": "stdout",
     "output_type": "stream",
     "text": [
      "Enter ingredients in your house: Lemon\n",
      "['168', 'Brandy Cobbler', '11157', 'Alcoholic', 'Ordinary Drink', 'Sugar', '', '', '', '', '', '', 'Club soda', 'Lemon', 'Brandy', 'Maraschino cherry', 'Orange', '', '', '']\n",
      "['192', 'Chicago Fizz', '11242', 'Alcoholic', 'Ordinary Drink', 'Light rum', '', '', '', '', '', '', 'Port', 'Lemon', 'Powdered sugar', 'Egg white', 'Carbonated water', '', '', '']\n",
      "['202', 'Clover Club', '17186', 'Alcoholic', 'Ordinary Drink', 'Gin', '', '', '', '', '', '', 'Grenadine', 'Lemon', 'Egg white', '', '', '', '', '']\n",
      "['250', 'Frisco Sour', '11382', 'Alcoholic', 'Ordinary Drink', 'Blended whiskey', '', '', '', '', '', '', 'Benedictine', 'Lemon', 'Lime', 'Lemon', 'Lime', '', '', '']\n",
      "['303', 'Imperial Fizz', '11524', 'Alcoholic', 'Ordinary Drink', 'Light rum', '', '', '', '', '', '', 'Blended whiskey', 'Lemon', 'Powdered sugar', 'Carbonated water', '', '', '', '']\n",
      "['344', 'Lemon Drop', '14366', 'Alcoholic', 'Cocktail', 'Absolut Vodka', '', '', '', '', '', '', 'Cointreau', 'Lemon', '', '', '', '', '', '']\n",
      "['345', 'Lemon Shot', '12752', 'Alcoholic', 'Shot', 'Galliano', '', '', '', '', '', '', 'Absolut Citron', 'Lemon', 'Sugar', '151 proof rum', '', '', '', '']\n",
      "['346', 'Lemouroudji', '12702', 'Non alcoholic', 'Other/Unknown', 'Ginger', '', '', '', '', '', '', 'Water', 'Lemon', 'Sugar', 'Cayenne pepper', '', '', '', '']\n",
      "['417', \"Quaker's Cocktail\", '11983', 'Alcoholic', 'Ordinary Drink', 'Light rum', '', '', '', '', '', '', 'Brandy', 'Lemon', 'Raspberry syrup', '', '', '', '', '']\n",
      "['436', 'Rum Cobbler', '12067', 'Alcoholic', 'Ordinary Drink', 'Sugar', '', '', '', '', '', '', 'Club soda', 'Lemon', 'Dark rum', 'Maraschino cherry', 'Orange', '', '', '']\n",
      "['437', 'Rum Cooler', '12071', 'Alcoholic', 'Ordinary Drink', 'Rum', '', '', '', '', '', '', 'Lemon-lime soda', 'Lemon', '', '', '', '', '', '']\n",
      "['450', \"Sangria - The World's Best\", '13026', 'Alcoholic', 'Punch / Party Drink', 'Red wine', '', '', '', '', '', '', 'Sugar', 'Lemon', 'Orange', 'Apple', 'Brandy', 'Soda water', '', '']\n",
      "['466', 'Sidecar Cocktail', '12198', 'Alcoholic', 'Ordinary Drink', 'Brandy', '', '', '', '', '', '', 'Triple sec', 'Lemon', '', '', '', '', '', '']\n",
      "['472', 'Snowball', '14195', 'Alcoholic', 'Ordinary Drink', 'Advocaat', '', '', '', '', '', '', 'Lemonade', 'Lemon', 'Ice', '', '', '', '', '']\n",
      "['516', 'Vesuvio', '12444', 'Alcoholic', 'Ordinary Drink', 'Light rum', '', '', '', '', '', '', 'Sweet Vermouth', 'Lemon', 'Powdered sugar', 'Egg white', '', '', '', '']\n"
     ]
    }
   ],
   "source": [
    "import requests\n",
    "import json\n",
    "import pandas as pd\n",
    "import warnings\n",
    "import csv\n",
    "\n",
    "#hile True:\n",
    "ing = input(\"Enter ingredients in your house: \")\n",
    "    #f ing =='STOP':\n",
    "\n",
    "with open('all_drinks.csv', 'rt') as f:\n",
    "    reader = csv.reader(f, delimiter=',')\n",
    "    for column in reader:\n",
    "        if ing  == column[13]:\n",
    "            print(column)\n",
    "            \n"
   ]
  },
  {
   "cell_type": "code",
   "execution_count": null,
   "metadata": {},
   "outputs": [],
   "source": []
  },
  {
   "cell_type": "code",
   "execution_count": null,
   "metadata": {},
   "outputs": [],
   "source": []
  }
 ],
 "metadata": {
  "kernelspec": {
   "display_name": "Python 3",
   "language": "python",
   "name": "python3"
  },
  "language_info": {
   "codemirror_mode": {
    "name": "ipython",
    "version": 3
   },
   "file_extension": ".py",
   "mimetype": "text/x-python",
   "name": "python",
   "nbconvert_exporter": "python",
   "pygments_lexer": "ipython3",
   "version": "3.7.6"
  }
 },
 "nbformat": 4,
 "nbformat_minor": 2
}
